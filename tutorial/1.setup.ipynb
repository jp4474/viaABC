{
 "cells": [
  {
   "cell_type": "code",
   "execution_count": 1,
   "id": "f159f8f7",
   "metadata": {},
   "outputs": [],
   "source": [
    "import os\n",
    "os.chdir('..')\n",
    "\n",
    "import numpy as np\n",
    "import json\n",
    "from systems import LotkaVolterra"
   ]
  },
  {
   "cell_type": "code",
   "execution_count": 2,
   "id": "edfd0fef",
   "metadata": {},
   "outputs": [],
   "source": [
    "# load json\n",
    "observational_data = json.load(open('/home/jp4474/latent-abc-smc/notebooks_lotka/lotka_volterra_data.json', 'r'))['y']"
   ]
  },
  {
   "cell_type": "code",
   "execution_count": 3,
   "id": "7aa71051",
   "metadata": {},
   "outputs": [],
   "source": [
    "observational_data_np = np.array(observational_data)"
   ]
  },
  {
   "cell_type": "code",
   "execution_count": 4,
   "id": "f599f526",
   "metadata": {},
   "outputs": [
    {
     "data": {
      "text/plain": [
       "array([[1.87, 0.49],\n",
       "       [0.65, 2.62],\n",
       "       [0.22, 1.54],\n",
       "       [0.31, 0.02],\n",
       "       [1.64, 1.14],\n",
       "       [1.15, 1.68],\n",
       "       [0.24, 1.07],\n",
       "       [2.91, 0.88]])"
      ]
     },
     "execution_count": 4,
     "metadata": {},
     "output_type": "execute_result"
    }
   ],
   "source": [
    "observational_data_np"
   ]
  },
  {
   "cell_type": "code",
   "execution_count": 5,
   "id": "b86093a3",
   "metadata": {},
   "outputs": [
    {
     "name": "stderr",
     "output_type": "stream",
     "text": [
      "INFO:latent_abc_pmc:Initializing ViaABC class\n",
      "WARNING:latent_abc_pmc:Model is None. The model must be provided to encode the data and run the algorithm.\n",
      "The class can be initialized without a model, but it will not\n",
      "be able to run the algorithm.\n",
      "INFO:latent_abc_pmc:Initialization complete\n",
      "INFO:latent_abc_pmc:LatentABCSMC class initialized with the following parameters:\n",
      "INFO:latent_abc_pmc:num_parameters: 2\n",
      "INFO:latent_abc_pmc:Mu: [0 0]\n",
      "INFO:latent_abc_pmc:Sigma: [10 10]\n",
      "INFO:latent_abc_pmc:t0: 0\n",
      "INFO:latent_abc_pmc:tmax: 15\n",
      "INFO:latent_abc_pmc:time_space: [ 1.1  2.4  3.9  5.6  7.5  9.6 11.9 14.4]\n",
      "INFO:latent_abc_pmc:pooling_method: no_cls\n",
      "INFO:latent_abc_pmc:metric: pairwise_cosine\n"
     ]
    }
   ],
   "source": [
    "lotka_abc = LotkaVolterra(observational_data=observational_data_np)"
   ]
  },
  {
   "cell_type": "code",
   "execution_count": 6,
   "id": "2c6f4892",
   "metadata": {},
   "outputs": [
    {
     "name": "stderr",
     "output_type": "stream",
     "text": [
      "INFO:latent_abc_pmc:Generating training data for training with seed 1004\n",
      "INFO:latent_abc_pmc:Generating 1 simulations for training data\n",
      "INFO:latent_abc_pmc:Saving 1 simulations to tutorial.\n",
      "INFO:latent_abc_pmc:Generated 1 simulations for training data in 0.01 seconds\n",
      "INFO:latent_abc_pmc:Generating 1 simulations for training data\n",
      "INFO:latent_abc_pmc:Saving 1 simulations to tutorial.\n",
      "INFO:latent_abc_pmc:Generated 1 simulations for training data in 0.01 seconds\n",
      "INFO:latent_abc_pmc:Generating 1 simulations for training data\n",
      "INFO:latent_abc_pmc:Saving 1 simulations to tutorial.\n",
      "INFO:latent_abc_pmc:Generated 1 simulations for training data in 0.01 seconds\n",
      "INFO:latent_abc_pmc:Training data generation completed and saved. Total time taken: 0.02 seconds\n"
     ]
    }
   ],
   "source": [
    "lotka_abc.generate_training_data([1, 1, 1], save_dir=\"tutorial\", seed=1004)"
   ]
  }
 ],
 "metadata": {
  "kernelspec": {
   "display_name": "penv",
   "language": "python",
   "name": "python3"
  },
  "language_info": {
   "codemirror_mode": {
    "name": "ipython",
    "version": 3
   },
   "file_extension": ".py",
   "mimetype": "text/x-python",
   "name": "python",
   "nbconvert_exporter": "python",
   "pygments_lexer": "ipython3",
   "version": "3.10.12"
  }
 },
 "nbformat": 4,
 "nbformat_minor": 5
}
